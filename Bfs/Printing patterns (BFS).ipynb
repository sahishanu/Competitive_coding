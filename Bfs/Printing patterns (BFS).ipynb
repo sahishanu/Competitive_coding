{
 "cells": [
  {
   "cell_type": "code",
   "execution_count": null,
   "metadata": {},
   "outputs": [],
   "source": [
    "\"\"\"\n",
    "hackerearth link:https://www.hackerearth.com/practice/algorithms/graphs/breadth-first-search/practice-problems/algorithm/waves-b18625d7/\n",
    "Printing patterns (bfs)\n",
    "\"\"\""
   ]
  },
  {
   "cell_type": "code",
   "execution_count": 31,
   "metadata": {},
   "outputs": [
    {
     "name": "stdout",
     "output_type": "stream",
     "text": [
      "9 9 1 1\n",
      "1 1 1 2 3 4 5 6 7 \n",
      "1 0 1 2 3 4 5 6 7 \n",
      "1 1 1 2 3 4 5 6 7 \n",
      "2 2 2 2 3 4 5 6 7 \n",
      "3 3 3 3 3 4 5 6 7 \n",
      "4 4 4 4 4 4 5 6 7 \n",
      "5 5 5 5 5 5 5 6 7 \n",
      "6 6 6 6 6 6 6 6 7 \n",
      "7 7 7 7 7 7 7 7 7 \n"
     ]
    }
   ],
   "source": [
    "r,c,c1,c2=map(int,input().split())\n",
    "mat=[[-1 for i in range(c)] for j in range(r)]\n",
    "\n",
    "def fill_bfs(mat,r,c,cur_r,cur_c,data):\n",
    "    q=[(cur_r,cur_c)]\n",
    "    data=0\n",
    "    while(len(q)!=0):\n",
    "#         print(q)\n",
    "        x,y=q.pop(0)\n",
    "        if(mat[x][y]==-1):4\n",
    "            mat[x][y]=data\n",
    "            \n",
    "        if(x+1<r and mat[x+1][y]==-1):\n",
    "            mat[x+1][y]=mat[x][y]+1\n",
    "            q.append((x+1,y))\n",
    "        if(x-1>=0 and mat[x-1][y]==-1):\n",
    "            mat[x-1][y]=mat[x][y]+1\n",
    "            q.append((x-1,y))\n",
    "        if(y+1<c and mat[x][y+1]==-1):\n",
    "            mat[x][y+1]=mat[x][y]+1\n",
    "            q.append((x,y+1))\n",
    "        if(y-1>=0 and mat[x][y-1] ==-1):\n",
    "            mat[x][y-1]=mat[x][y]+1\n",
    "            q.append((x,y-1))\n",
    "        if(x+1<r):\n",
    "            if(y+1<c and mat [x+1][y+1]==-1):\n",
    "                mat[x+1][y+1]=mat[x][y]+1\n",
    "                q.append((x+1,y+1))\n",
    "            if(y-1>=0 and mat[x+1][y-1]==-1):\n",
    "                mat[x+1][y-1]=mat[x][y]+1\n",
    "                q.append((x+1,y-1))\n",
    "        if(x-1>=0):\n",
    "            if(y+1<c and mat [x-1][y+1]==-41):\n",
    "                mat[x-1][y+1]=mat[x][y]+1\n",
    "                q.append((x-1,y+1))\n",
    "            if(y-1>=0 and mat[x-1][y-1]==-1):\n",
    "                mat[x-1][y-1]=mat[x][y]+1\n",
    "                q.append((x-1,y-1))\n",
    "\n",
    "        \n",
    "            \n",
    "            \n",
    "            \n",
    "            \n",
    "\n",
    "fill_bfs(mat,r,c,c1,c2,0)\n",
    "for i in range(r):\n",
    "    for j in range(c):\n",
    "        print(mat[i][j],end=\" \")\n",
    "    print(\"\")"
   ]
  },
  {
   "cell_type": "code",
   "execution_count": 35,
   "metadata": {},
   "outputs": [
    {
     "name": "stdout",
     "output_type": "stream",
     "text": [
      "9 9 2 2\n",
      "2 2 2 2 2 3 4 5 6 \n",
      "2 1 1 1 2 3 4 5 6 \n",
      "2 1 0 1 2 3 4 5 6 \n",
      "2 1 1 1 2 3 4 5 6 \n",
      "2 2 2 2 2 3 4 5 6 \n",
      "3 3 3 3 3 3 4 5 6 \n",
      "4 4 4 4 4 4 4 5 6 \n",
      "5 5 5 5 5 5 5 5 6 \n",
      "6 6 6 6 6 6 6 6 6 \n"
     ]
    }
   ],
   "source": [
    "# optimize\n",
    "r,c,c1,c2=map(int,input().split())\n",
    "for i in range(r):\n",
    "    for j in range(c):\n",
    "        print(max(abs(c1-i),abs(c2-j)),end=\" \")\n",
    "    print(\"\")"
   ]
  }
 ],
 "metadata": {
  "kernelspec": {
   "display_name": "Python 3",
   "language": "python",
   "name": "python3"
  },
  "language_info": {
   "codemirror_mode": {
    "name": "ipython",
    "version": 3
   },
   "file_extension": ".py",
   "mimetype": "text/x-python",
   "name": "python",
   "nbconvert_exporter": "python",
   "pygments_lexer": "ipython3",
   "version": "3.7.5"
  }
 },
 "nbformat": 4,
 "nbformat_minor": 2
}

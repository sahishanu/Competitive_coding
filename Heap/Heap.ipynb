{
 "cells": [
  {
   "cell_type": "code",
   "execution_count": 1,
   "metadata": {},
   "outputs": [],
   "source": [
    "#Max heap\n",
    "def insert(data,heap):\n",
    "    heap.append(data)\n",
    "    i=len(heap)\n",
    "    while(i-1>0):\n",
    "        if(heap[(i//2) -1]>heap[i - 1]):\n",
    "            break\n",
    "        else:\n",
    "            x=heap[i-1]\n",
    "            heap[i-1]=heap[(i//2) -1]\n",
    "            heap[(i//2) -1]=x\n",
    "            i=i//2\n",
    "def pop(heap):\n",
    "    if(len(heap)==1):\n",
    "        x=heap[0]\n",
    "        heap.pop(0)\n",
    "        return(x)\n",
    "    x=heap.pop(-1)\n",
    "    maxm=heap[0]\n",
    "    heap[0]=x\n",
    "    i=1\n",
    "    while(((i*2)-1)<len(heap)):\n",
    "        l=(i*2)-1\n",
    "        r=l+1\n",
    "        \n",
    "        if(r>=len(heap)):\n",
    "            if(heap[l]>heap[i-1]):\n",
    "                heap[l],heap[i-1]=heap[i-1],heap[l]\n",
    "                i=l+1\n",
    "            else:\n",
    "                break\n",
    "        else:\n",
    "            \n",
    "            m=r\n",
    "            if(heap[l]>heap[r]):\n",
    "                m=l\n",
    "            \n",
    "            if(heap[i-1]<heap[m]):\n",
    "                heap[m],heap[i-1]=heap[i-1],heap[m]\n",
    "                i=m+1\n",
    "            else:\n",
    "                break\n",
    "                \n",
    "    return(maxm)\n",
    "\n",
    "\n",
    "    "
   ]
  },
  {
   "cell_type": "code",
   "execution_count": 2,
   "metadata": {},
   "outputs": [
    {
     "name": "stdout",
     "output_type": "stream",
     "text": [
      "[4, 3, 1, 0, 2]\n"
     ]
    }
   ],
   "source": [
    "heap=[]\n",
    "for i in range(5):\n",
    "    insert(i,heap)\n",
    "print(heap)"
   ]
  },
  {
   "cell_type": "code",
   "execution_count": 3,
   "metadata": {},
   "outputs": [
    {
     "name": "stdout",
     "output_type": "stream",
     "text": [
      "4 [3, 2, 1, 0]\n"
     ]
    }
   ],
   "source": [
    "print(pop(heap),heap)"
   ]
  },
  {
   "cell_type": "code",
   "execution_count": null,
   "metadata": {},
   "outputs": [],
   "source": []
  },
  {
   "cell_type": "code",
   "execution_count": null,
   "metadata": {},
   "outputs": [],
   "source": []
  }
 ],
 "metadata": {
  "kernelspec": {
   "display_name": "Python 3",
   "language": "python",
   "name": "python3"
  },
  "language_info": {
   "codemirror_mode": {
    "name": "ipython",
    "version": 3
   },
   "file_extension": ".py",
   "mimetype": "text/x-python",
   "name": "python",
   "nbconvert_exporter": "python",
   "pygments_lexer": "ipython3",
   "version": "3.7.5"
  }
 },
 "nbformat": 4,
 "nbformat_minor": 2
}

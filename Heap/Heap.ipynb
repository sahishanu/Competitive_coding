{
 "cells": [
  {
   "cell_type": "code",
   "execution_count": 59,
   "metadata": {},
   "outputs": [],
   "source": [
    "def insert(data,heap):\n",
    "    if(len(heap)==0):\n",
    "        heap.append(data)\n",
    "    else:\n",
    "        heap.append(data)\n",
    "        i=len(heap)-1\n",
    "        p=(i-1)//2\n",
    "        while(i!=0 and heap[p]<heap[i]):\n",
    "            heap[i],heap[p]=heap[p],heap[i]\n",
    "            i=p\n",
    "            p=(i-1)//2\n",
    "def precolatedown(heap,i):\n",
    "    \n",
    "    l=2*i +1\n",
    "    r=2*i +2\n",
    "    while(l<len(heap)):\n",
    "        if(r<len(heap)):\n",
    "            m=r\n",
    "            if(heap[m]<heap[l]):\n",
    "                m=l\n",
    "            if(heap[i]<heap[m]):\n",
    "                heap[i],heap[m]=heap[m],heap[i]\n",
    "                i=m\n",
    "        elif(heap[i]<heap[l]):\n",
    "            heap[i],heap[l]=heap[l],heap[i]\n",
    "            i=l\n",
    "        else:\n",
    "            break\n",
    "            \n",
    "        l=(i*2) +1\n",
    "        r=(i*2) +2\n",
    "                \n",
    "            \n",
    "    \n",
    "def delete(heap,i=0):\n",
    "    x=heap[i]\n",
    "    heap[i]=heap[-1]\n",
    "    heap.pop(-1)\n",
    "    precolatedown(heap,i)\n",
    "    return(x)\n",
    "    \n",
    "def heapify(heap):\n",
    "    i=(len(l)-1)//2\n",
    "    while(i>=0):\n",
    "        precolatedown(heap,i)\n",
    "        i-=1\n",
    "def heapsort(heap):\n",
    "    l=[]\n",
    "    heapify(heap)\n",
    "    while(len(heap)!=0):\n",
    "        l.append(delete(heap))\n",
    "    return(l)\n",
    "    \n",
    "        "
   ]
  },
  {
   "cell_type": "code",
   "execution_count": 60,
   "metadata": {},
   "outputs": [
    {
     "name": "stdout",
     "output_type": "stream",
     "text": [
      "[4, 3, 1, 0, 2]\n"
     ]
    }
   ],
   "source": [
    "heap=[]\n",
    "for i in range(5):\n",
    "    insert(i,heap)\n",
    "print(heap)"
   ]
  },
  {
   "cell_type": "code",
   "execution_count": 61,
   "metadata": {},
   "outputs": [
    {
     "name": "stdout",
     "output_type": "stream",
     "text": [
      "4 [3, 2, 1, 0]\n"
     ]
    }
   ],
   "source": [
    "print(delete(heap),heap)"
   ]
  },
  {
   "cell_type": "code",
   "execution_count": 62,
   "metadata": {},
   "outputs": [
    {
     "name": "stdout",
     "output_type": "stream",
     "text": [
      "[8, 7, 2, 4, 6, 1, 0]\n"
     ]
    }
   ],
   "source": [
    "l=[1,4,2,7,6,8,0]\n",
    "heapify(l)\n",
    "print(l)"
   ]
  },
  {
   "cell_type": "code",
   "execution_count": 64,
   "metadata": {},
   "outputs": [
    {
     "name": "stdout",
     "output_type": "stream",
     "text": [
      "[40, 8, 6, 4, 2, 1, 0]\n"
     ]
    }
   ],
   "source": [
    "a=[1,4,2,40,6,8,0]\n",
    "print(heapsort(a))"
   ]
  }
 ],
 "metadata": {
  "kernelspec": {
   "display_name": "Python 3",
   "language": "python",
   "name": "python3"
  },
  "language_info": {
   "codemirror_mode": {
    "name": "ipython",
    "version": 3
   },
   "file_extension": ".py",
   "mimetype": "text/x-python",
   "name": "python",
   "nbconvert_exporter": "python",
   "pygments_lexer": "ipython3",
   "version": "3.7.5"
  }
 },
 "nbformat": 4,
 "nbformat_minor": 2
}

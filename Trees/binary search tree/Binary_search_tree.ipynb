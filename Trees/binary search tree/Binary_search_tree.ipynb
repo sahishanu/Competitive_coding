{
 "cells": [
  {
   "cell_type": "code",
   "execution_count": null,
   "metadata": {},
   "outputs": [],
   "source": [
    "\"\"\"\n",
    "Binary Search Tree:\n",
    "\n",
    "Binary Search Tree is a node-based binary tree data structure which has the following properties:\n",
    "    > The left subtree of a node contains only nodes with keys lesser than the node’s key.\n",
    "    > The right subtree of a node contains only nodes with keys greater than the node’s key.\n",
    "    > The left and right subtree each must also be a binary search tree.\n",
    "\"\"\""
   ]
  },
  {
   "cell_type": "code",
   "execution_count": 24,
   "metadata": {},
   "outputs": [],
   "source": [
    "#Creating class for node of BST\n",
    "\n",
    "class node:\n",
    "    def __init__(self,data):\n",
    "        self.data=data\n",
    "        self.left=None\n",
    "        self.right=None\n",
    "\n",
    "        \n",
    "def insert(root,data):\n",
    "    if(root==None):\n",
    "        root=node(data)\n",
    "    else:\n",
    "        if(data<root.data):\n",
    "            if(root.left==None):\n",
    "                root.left=node(data)\n",
    "            else:\n",
    "                insert(root.left,data)\n",
    "        else:\n",
    "            if(root.right==None):\n",
    "                root.right=node(data)\n",
    "            else:\n",
    "                insert(root.right,data)\n",
    "\n",
    "                \n",
    "def search(root,key):\n",
    "    if(root==None):\n",
    "        return(False)\n",
    "    else:\n",
    "        if(root.data==key):\n",
    "            return(True)\n",
    "        elif(root.data<key):\n",
    "            return(search(root.right,key))\n",
    "        else:\n",
    "            return(search(root.left,key))\n",
    "            \n",
    "            \n",
    "    \n",
    "                \n",
    "def inorder(root): \n",
    "    if root: \n",
    "        inorder(root.left) \n",
    "        print(root.data) \n",
    "        inorder(root.right) \n"
   ]
  },
  {
   "cell_type": "code",
   "execution_count": 25,
   "metadata": {},
   "outputs": [
    {
     "name": "stdout",
     "output_type": "stream",
     "text": [
      "50\n"
     ]
    }
   ],
   "source": [
    "root=node(50)\n",
    "insert(root,30)\n",
    "insert(root,20)\n",
    "insert(root,40)\n",
    "insert(root,70)\n",
    "insert(root,60)\n",
    "insert(root,80)\n",
    "inorder(root)\n"
   ]
  },
  {
   "cell_type": "code",
   "execution_count": 23,
   "metadata": {},
   "outputs": [
    {
     "name": "stdout",
     "output_type": "stream",
     "text": [
      "True\n",
      "False\n"
     ]
    }
   ],
   "source": [
    "print(search(root,70))\n",
    "print(search(root,100))"
   ]
  }
 ],
 "metadata": {
  "kernelspec": {
   "display_name": "Python 3",
   "language": "python",
   "name": "python3"
  },
  "language_info": {
   "codemirror_mode": {
    "name": "ipython",
    "version": 3
   },
   "file_extension": ".py",
   "mimetype": "text/x-python",
   "name": "python",
   "nbconvert_exporter": "python",
   "pygments_lexer": "ipython3",
   "version": "3.7.5"
  }
 },
 "nbformat": 4,
 "nbformat_minor": 2
}

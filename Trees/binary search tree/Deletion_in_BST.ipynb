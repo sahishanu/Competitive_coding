{
 "cells": [
  {
   "cell_type": "code",
   "execution_count": 4,
   "metadata": {},
   "outputs": [],
   "source": [
    "class node:\n",
    "    def __init__(self,data):\n",
    "        self.data=data\n",
    "        self.left=None\n",
    "        self.right=None\n",
    "\n",
    "        \n",
    "def insert(root,data):\n",
    "    if(root==None):\n",
    "        root=node(data)\n",
    "    else:\n",
    "        if(data<root.data):\n",
    "            if(root.left==None):\n",
    "                root.left=node(data)\n",
    "            else:\n",
    "                insert(root.left,data)\n",
    "        else:\n",
    "            if(root.right==None):\n",
    "                root.right=node(data)\n",
    "            else:\n",
    "                insert(root.right,data)\n",
    "\n",
    "            \n",
    "    \n",
    "                \n",
    "2\n",
    "1 2 2 4 5 6 7\n"
   ]
  },
  {
   "cell_type": "code",
   "execution_count": 20,
   "metadata": {},
   "outputs": [],
   "source": [
    "##############################    DELETION     ###########################\n",
    "def inorder_succ(root):\n",
    "    if(root.left==None):\n",
    "        temp=root.data\n",
    "        return (root)\n",
    "    else:\n",
    "        return(inorder_succ(root.left))\n",
    "    \n",
    "    \n",
    "def delete(root,key):\n",
    "    if root== None:\n",
    "        return(root)\n",
    "    if(root.data<key):\n",
    "        root.right=delete(root.right,key)\n",
    "    elif(root.data>key):\n",
    "        root.left=delete(root.left,keys)\n",
    "    else:\n",
    "        if(root.left==None and root.right==None):\n",
    "            return(None)\n",
    "        elif(root.left!=None and root.right==None):\n",
    "            return(root.left)\n",
    "        elif(root.right!=None and root.left==None):\n",
    "            return(root.right)\n",
    "        else:\n",
    "            temp=inorder_succ(root.right)\n",
    "            root.data=temp.data\n",
    "            \n",
    "            root.right=delete(root.right,temp.data)\n",
    "            \n",
    "    return(root)\n",
    "            \n",
    "        \n",
    "    \n",
    "    \n",
    "            \n"
   ]
  },
  {
   "cell_type": "code",
   "execution_count": 21,
   "metadata": {},
   "outputs": [
    {
     "name": "stdout",
     "output_type": "stream",
     "text": [
      "20\n",
      "30\n",
      "40\n",
      "50\n",
      "60\n",
      "70\n",
      "80\n"
     ]
    }
   ],
   "source": [
    "root=node(50)\n",
    "insert(root,30)\n",
    "insert(root,20)\n",
    "insert(root,40)\n",
    "insert(root,70)\n",
    "insert(root,60)\n",
    "insert(root,80)\n",
    "inorder(root)\n"
   ]
  },
  {
   "cell_type": "code",
   "execution_count": 22,
   "metadata": {},
   "outputs": [
    {
     "name": "stdout",
     "output_type": "stream",
     "text": [
      "20\n",
      "30\n",
      "40\n",
      "50\n",
      "60\n",
      "80\n"
     ]
    }
   ],
   "source": [
    "delete(root,70)\n",
    "inorder(root)\n"
   ]
  }
 ],
 "metadata": {
  "kernelspec": {
   "display_name": "Python 3",
   "language": "python",
   "name": "python3"
  },
  "language_info": {
   "codemirror_mode": {
    "name": "ipython",
    "version": 3
   },
   "file_extension": ".py",
   "mimetype": "text/x-python",
   "name": "python",
   "nbconvert_exporter": "python",
   "pygments_lexer": "ipython3",
   "version": "3.7.5"
  }
 },
 "nbformat": 4,
 "nbformat_minor": 2
}

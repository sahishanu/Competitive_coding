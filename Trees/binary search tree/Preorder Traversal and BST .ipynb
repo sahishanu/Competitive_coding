{
 "cells": [
  {
   "cell_type": "code",
   "execution_count": 70,
   "metadata": {},
   "outputs": [],
   "source": [
    "#code\n",
    "def check(l,lower,upper):\n",
    "    # print(lower,upper)\n",
    "    if(lower>=upper):\n",
    "        return(1)\n",
    "    else:\n",
    "        m=0\n",
    "        p=l[lower]\n",
    "        m=0\n",
    "        f=0\n",
    "        for i in range(lower+1,upper+1):\n",
    "            if(p<l[i]):\n",
    "                f=1\n",
    "                m=i-1\n",
    "            if(f==1):\n",
    "                if(l[i]<p):\n",
    "                    return(0)\n",
    "        \n",
    "        else:\n",
    "            return(min(check(l,lower+1,m),check(l,m+1,upper)))\n",
    "t=int(input())\n",
    "for i in range(t):\n",
    "    n=int(input())\n",
    "    l=list(map(int,input().split()))\n",
    "    print(check(l,0,len(l)-1))\n",
    "    "
   ]
  }
 ],
 "metadata": {
  "kernelspec": {
   "display_name": "Python 3",
   "language": "python",
   "name": "python3"
  },
  "language_info": {
   "codemirror_mode": {
    "name": "ipython",
    "version": 3
   },
   "file_extension": ".py",
   "mimetype": "text/x-python",
   "name": "python",
   "nbconvert_exporter": "python",
   "pygments_lexer": "ipython3",
   "version": "3.7.5"
  }
 },
 "nbformat": 4,
 "nbformat_minor": 2
}

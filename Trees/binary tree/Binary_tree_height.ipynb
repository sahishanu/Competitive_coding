{
 "cells": [
  {
   "cell_type": "code",
   "execution_count": 4,
   "metadata": {},
   "outputs": [],
   "source": [
    "class bnode:\n",
    "    def __init__(self,data):\n",
    "        self.data=data\n",
    "        self.left=None\n",
    "        self.right=None\n",
    "class Binary_t:\n",
    "    def __init__(self):\n",
    "        self.root=None\n",
    "B1=Binary_t()\n",
    "B1.root=(bnode(4))\n",
    "B1.root.left=bnode(3)\n",
    "B1.root.right=bnode(5)\n",
    "B1.root.left.left=bnode(1)\n",
    "B1.root.left.right=bnode(2)\n",
    "B1.root.right.right=bnode(6)"
   ]
  },
  {
   "cell_type": "code",
   "execution_count": 5,
   "metadata": {},
   "outputs": [
    {
     "name": "stdout",
     "output_type": "stream",
     "text": [
      "height: 2\n"
     ]
    }
   ],
   "source": [
    "\"\"\"\n",
    "          4\n",
    "        /   \\\n",
    "       3     5\n",
    "      / \\     \\\n",
    "     1   2     6\n",
    "Find the hight?\n",
    "height:2\n",
    "\"\"\"\n",
    "def height(root):\n",
    "    if(root==None):\n",
    "        return(0)\n",
    "    else:\n",
    "        return(max(1+height(root.left),1+height(root.right)))\n",
    "    \n",
    "print(\"height:\",height(B1.root)-1)"
   ]
  }
 ],
 "metadata": {
  "kernelspec": {
   "display_name": "Python 3",
   "language": "python",
   "name": "python3"
  },
  "language_info": {
   "codemirror_mode": {
    "name": "ipython",
    "version": 3
   },
   "file_extension": ".py",
   "mimetype": "text/x-python",
   "name": "python",
   "nbconvert_exporter": "python",
   "pygments_lexer": "ipython3",
   "version": "3.7.5"
  }
 },
 "nbformat": 4,
 "nbformat_minor": 2
}

{
 "cells": [
  {
   "cell_type": "code",
   "execution_count": 1,
   "metadata": {},
   "outputs": [],
   "source": [
    "class bnode:\n",
    "    def __init__(self,data):\n",
    "        self.data=data\n",
    "        self.left=None\n",
    "        self.right=None\n",
    "class Binary_t:\n",
    "    def __init__(self):\n",
    "        self.root=None\n",
    "B1=Binary_t()\n",
    "B1.root=(bnode(4))\n",
    "B1.root.left=bnode(3)\n",
    "B1.root.right=bnode(5)\n",
    "B1.root.left.left=bnode(1)\n",
    "B1.root.left.right=bnode(2)\n",
    "B1.root.right.right=bnode(6)"
   ]
  },
  {
   "cell_type": "code",
   "execution_count": 2,
   "metadata": {},
   "outputs": [
    {
     "name": "stdout",
     "output_type": "stream",
     "text": [
      "Top view: 1 3 4 5 6 "
     ]
    }
   ],
   "source": [
    "\"\"\"\n",
    "          4\n",
    "        /   \\\n",
    "       3     5\n",
    "      / \\     \\\n",
    "     1   2     6\n",
    "Top view: 1 3 4 5 6 \n",
    "\"\"\"\n",
    "\n",
    "            \n",
    "            \n",
    "def topview(root):\n",
    "    \n",
    "    queue=[]  \n",
    "    d=dict()\n",
    "    d[0]=root.data\n",
    "    queue.append([root,0])\n",
    "    while(len(queue)!=0):\n",
    "        k,s=queue.pop(0)\n",
    "        \n",
    "        if(k.left!=None):\n",
    "            queue.append([k.left,s-1])\n",
    "            if(s-1 not in d.keys()):\n",
    "                d[s-1]=k.left.data\n",
    "            \n",
    "            \n",
    "            \n",
    "        if(k.right!=None):\n",
    "            queue.append([k.right,s+1])\n",
    "            if(s+1 not in d.keys()):\n",
    "                d[s+1]=k.right.data\n",
    "                                            \n",
    "    for i in sorted(d.keys()):\n",
    "        print(d[i],end=\" \")\n",
    "print(\"Top view:\",end=\" \")        \n",
    "topview(B1.root)    "
   ]
  }
 ],
 "metadata": {
  "kernelspec": {
   "display_name": "Python 3",
   "language": "python",
   "name": "python3"
  },
  "language_info": {
   "codemirror_mode": {
    "name": "ipython",
    "version": 3
   },
   "file_extension": ".py",
   "mimetype": "text/x-python",
   "name": "python",
   "nbconvert_exporter": "python",
   "pygments_lexer": "ipython3",
   "version": "3.7.5"
  }
 },
 "nbformat": 4,
 "nbformat_minor": 2
}

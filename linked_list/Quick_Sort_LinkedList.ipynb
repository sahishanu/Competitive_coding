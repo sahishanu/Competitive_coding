{
 "cells": [
  {
   "cell_type": "code",
   "execution_count": 1,
   "metadata": {},
   "outputs": [],
   "source": [
    "class Node:\n",
    "    def __init__(self,data):\n",
    "        self.data=data\n",
    "        self.next=None\n",
    "\n",
    "\n",
    "class l_list:\n",
    "    def __init__(self):\n",
    "        self.head=None\n",
    "    def append(self,data):\n",
    "        if(self.head==None):\n",
    "            self.head=Node(data)\n",
    "        else:\n",
    "            temp=self.head\n",
    "            while(temp.next!=None):\n",
    "                temp=temp.next\n",
    "            temp.next=Node(data)\n",
    "    def display(self):\n",
    "        temp=self.head\n",
    "        while(temp!=None):\n",
    "            if(temp.next!=None):\n",
    "                print(temp.data,end=\"->\")\n",
    "            else:\n",
    "                print(temp.data)\n",
    "            temp=temp.next\n",
    "    \n"
   ]
  },
  {
   "cell_type": "code",
   "execution_count": 2,
   "metadata": {},
   "outputs": [],
   "source": [
    "def partition(arr,low,high): \n",
    "    i = ( low-1 )         \n",
    "    pivot = arr[high][0]   \n",
    "    for j in range(low , high): \n",
    "        if   arr[j][0] < pivot: \n",
    "            i = i+1 \n",
    "            arr[i],arr[j] = arr[j],arr[i] \n",
    "  \n",
    "    arr[i+1],arr[high] = arr[high],arr[i+1] \n",
    "    return ( i+1 ) \n",
    "    \n",
    "    \n",
    "    \n",
    "    \n",
    "def qSort(arr,low,high): \n",
    "    if low < high: \n",
    "        pi = partition(arr,low,high)  \n",
    "        qSort(arr, low, pi-1) \n",
    "        qSort(arr, pi+1, high) \n",
    "\n",
    "        \n",
    "def quickSort(head):\n",
    "    temp=head\n",
    "    l=[]\n",
    "    while(temp!=None):\n",
    "        l.append([temp.data,temp])\n",
    "        temp=temp.next\n",
    "    \n",
    "    \n",
    "    qSort(l,0,len(l)-1)\n",
    "#     print(l)\n",
    "    head=l[0][1]\n",
    "    temp=head\n",
    "    for i in range(1,len(l)):\n",
    "#         print(l[i],d[l[i]])\n",
    "            temp.next=l[i][1]\n",
    "            temp=temp.next\n",
    "    temp.next=None\n",
    "    return(head)\n",
    "    "
   ]
  },
  {
   "cell_type": "code",
   "execution_count": 3,
   "metadata": {},
   "outputs": [
    {
     "name": "stdout",
     "output_type": "stream",
     "text": [
      "Enter no of element5\n",
      "3\n",
      "4\n",
      "5\n",
      "1\n",
      "2\n",
      "1->2->3->4->5\n"
     ]
    }
   ],
   "source": [
    "n=int(input(\"Enter no of element\"))\n",
    "l=l_list()\n",
    "# Entering the list element\n",
    "for i in range(n):\n",
    "    l.append(int(input()))\n",
    "# l.display()\n",
    "\n",
    "l.head=quickSort(l.head)\n",
    "\n",
    "l.display()"
   ]
  }
 ],
 "metadata": {
  "kernelspec": {
   "display_name": "Python 3",
   "language": "python",
   "name": "python3"
  },
  "language_info": {
   "codemirror_mode": {
    "name": "ipython",
    "version": 3
   },
   "file_extension": ".py",
   "mimetype": "text/x-python",
   "name": "python",
   "nbconvert_exporter": "python",
   "pygments_lexer": "ipython3",
   "version": "3.7.5"
  }
 },
 "nbformat": 4,
 "nbformat_minor": 2
}

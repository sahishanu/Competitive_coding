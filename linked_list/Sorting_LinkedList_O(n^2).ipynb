{
 "cells": [
  {
   "cell_type": "code",
   "execution_count": 1,
   "metadata": {},
   "outputs": [],
   "source": [
    "\"\"\"\n",
    "Sorting a linked list in O(n^2) complexity and space complexity of O(1).\n",
    "\"\"\"\n",
    "\n",
    "\n",
    "class Node:\n",
    "    def __init__(self,data):\n",
    "        self.data=data\n",
    "        self.next=None\n",
    "\n",
    "\n",
    "class l_list:\n",
    "    def __init__(self):\n",
    "        self.head=None\n",
    "    def append(self,data):\n",
    "        if(self.head==None):\n",
    "            self.head=Node(data)\n",
    "        else:\n",
    "            temp=self.head\n",
    "            while(temp.next!=None):\n",
    "                temp=temp.next\n",
    "            temp.next=Node(data)\n",
    "    def display(self):\n",
    "        temp=self.head\n",
    "        while(temp!=None):\n",
    "            if(temp.next!=None):\n",
    "                print(temp.data,end=\"->\")\n",
    "            else:\n",
    "                print(temp.data)\n",
    "            temp=temp.next\n",
    "    \n",
    "\n"
   ]
  },
  {
   "cell_type": "code",
   "execution_count": 4,
   "metadata": {},
   "outputs": [],
   "source": [
    "def sort(head):\n",
    "    temp=head\n",
    "    temp2=head\n",
    "    minm=temp\n",
    "    while(temp!=None):\n",
    "        temp2=temp.next\n",
    "        minm=temp\n",
    "        while(temp2!=None):\n",
    "            if(temp2.data<minm.data):\n",
    "                minm=temp2\n",
    "            temp2=temp2.next\n",
    "        x=temp.data\n",
    "        temp.data=minm.data\n",
    "        minm.data=x\n",
    "        \n",
    "        temp=temp.next\n",
    "                \n",
    "            \n",
    "            \n",
    "            \n",
    "            "
   ]
  },
  {
   "cell_type": "code",
   "execution_count": 7,
   "metadata": {},
   "outputs": [
    {
     "name": "stdout",
     "output_type": "stream",
     "text": [
      "Enter no of element7\n",
      "4\n",
      "8\n",
      "7\n",
      "2\n",
      "9\n",
      "1\n",
      "3\n",
      "4->8->7->2->9->1->3\n",
      "1->2->3->4->7->8->9\n"
     ]
    }
   ],
   "source": [
    "n=int(input(\"Enter no of element\"))\n",
    "l=l_list()\n",
    "# Entering the list element\n",
    "for i in range(n):\n",
    "    l.append(int(input()))\n",
    "l.display()\n",
    "sort(l.head)\n",
    "l.display()"
   ]
  }
 ],
 "metadata": {
  "kernelspec": {
   "display_name": "Python 3",
   "language": "python",
   "name": "python3"
  },
  "language_info": {
   "codemirror_mode": {
    "name": "ipython",
    "version": 3
   },
   "file_extension": ".py",
   "mimetype": "text/x-python",
   "name": "python",
   "nbconvert_exporter": "python",
   "pygments_lexer": "ipython3",
   "version": "3.7.5"
  }
 },
 "nbformat": 4,
 "nbformat_minor": 2
}

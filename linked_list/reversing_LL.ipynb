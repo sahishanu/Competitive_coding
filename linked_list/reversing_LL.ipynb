{
 "cells": [
  {
   "cell_type": "code",
   "execution_count": 17,
   "metadata": {},
   "outputs": [],
   "source": [
    "\"\"\"\n",
    "Reversig a linked list:\n",
    "head->1->2->3->4->5->None\n",
    "reversed\n",
    "head->5->4->3->2->1->None\n",
    "\n",
    "head->1->2->3...\n",
    "\n",
    "step1:\n",
    "    pre=head , nxt=head.next\n",
    "step2:\n",
    "    pre=nxt\n",
    "    nxt=nxt.next\n",
    "    head.next=Null\n",
    "    pre.next=head\n",
    "    head=pre\n",
    "step3:\n",
    "//same thing inside the loop just except head will not  to change its next to Null \n",
    "//as it is storing head.next=1 nead.data=2\n",
    "//State before the loop start \n",
    "//Null<-1 2->3->4....\n",
    "//Null<-1<-2 3->4...\n",
    "    while(nxt!=None):\n",
    "        pre=nxt\n",
    "        nxt=nxt.next\n",
    "        pre.next=head\n",
    "        head=pre\n",
    "    \n",
    "    \n",
    "    \n",
    "\n",
    "    \n",
    "\"\"\"\n",
    "\n"
   ]
  },
  {
   "cell_type": "code",
   "execution_count": 57,
   "metadata": {},
   "outputs": [],
   "source": [
    "\n",
    "class Node:\n",
    "    def __init__(self,data):\n",
    "        self.data=data\n",
    "        self.next=None\n",
    "\n",
    "\n",
    "class l_list:\n",
    "    def __init__(self):\n",
    "        self.head=None\n",
    "    def append(self,data):\n",
    "        if(self.head==None):\n",
    "            self.head=Node(data)\n",
    "        else:\n",
    "            temp=self.head\n",
    "            while(temp.next!=None):\n",
    "                temp=temp.next\n",
    "            temp.next=Node(data)\n",
    "    def display(self):\n",
    "        temp=self.head\n",
    "        while(temp!=None):\n",
    "            if(temp.next!=None):\n",
    "                print(temp.data,end=\"->\")\n",
    "            else:\n",
    "                print(temp.data)\n",
    "            temp=temp.next\n",
    "    \n"
   ]
  },
  {
   "cell_type": "code",
   "execution_count": 60,
   "metadata": {},
   "outputs": [],
   "source": [
    "#reversing the linked list if head is given\n",
    "def reverse_it(head):\n",
    "    if(head.next==None):\n",
    "        return(head)\n",
    "   \n",
    "    p=head\n",
    "    n=head.next\n",
    "   \n",
    "    #pointing head to null\n",
    "    p=n\n",
    "    n=n.next\n",
    "    head.next=None\n",
    "    p.next=head\n",
    "    head=p\n",
    "    while(n!=None):\n",
    "        p=n\n",
    "        n=n.next\n",
    "        p.next=head\n",
    "        head=p\n",
    "    return(head)\n",
    "        \n",
    "        \n",
    "    \n",
    "        "
   ]
  },
  {
   "cell_type": "code",
   "execution_count": 66,
   "metadata": {},
   "outputs": [
    {
     "name": "stdout",
     "output_type": "stream",
     "text": [
      "Enter no of element7\n",
      "1\n",
      "2\n",
      "3\n",
      "4\n",
      "5\n",
      "6\n",
      "7\n",
      "1->2->3->4->5->6->7\n",
      "\n",
      " After reversing \n",
      "\n",
      "7->6->5->4->3->2->1\n"
     ]
    }
   ],
   "source": [
    "n=int(input(\"Enter no of element\"))\n",
    "l=l_list()\n",
    "# Entering the list element\n",
    "for i in range(n):\n",
    "    l.append(int(input()))\n",
    "l.display()\n",
    "#reversing\n",
    "print(\"\\n After reversing \\n\")\n",
    "l.head=reverse_it(l.head)\n",
    "l.display()"
   ]
  },
  {
   "cell_type": "code",
   "execution_count": null,
   "metadata": {},
   "outputs": [],
   "source": []
  }
 ],
 "metadata": {
  "kernelspec": {
   "display_name": "Python 3",
   "language": "python",
   "name": "python3"
  },
  "language_info": {
   "codemirror_mode": {
    "name": "ipython",
    "version": 3
   },
   "file_extension": ".py",
   "mimetype": "text/x-python",
   "name": "python",
   "nbconvert_exporter": "python",
   "pygments_lexer": "ipython3",
   "version": "3.7.5"
  }
 },
 "nbformat": 4,
 "nbformat_minor": 2
}

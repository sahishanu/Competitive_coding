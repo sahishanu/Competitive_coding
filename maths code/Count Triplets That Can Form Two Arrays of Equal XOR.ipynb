{
 "cells": [
  {
   "cell_type": "code",
   "execution_count": 2,
   "metadata": {},
   "outputs": [],
   "source": [
    "def give(i,j,l):\n",
    "    if(i!=0 ):\n",
    "        return(l[j]^l[i-1])\n",
    "    else:\n",
    "        return(l[j])\n",
    "    \n",
    "class Solution:\n",
    "\n",
    "        \n",
    "    def countTriplets(self, arr):\n",
    "        \n",
    "\n",
    "        # tri=[]\n",
    "\n",
    "        count=0\n",
    "        #finding prifix array\n",
    "        for i in range(1,len(arr)):\n",
    "            arr[i]=arr[i]^arr[i-1]\n",
    "        n=len(arr)\n",
    "        \n",
    "        for i in range(0,n):\n",
    "            for k in range(i+1,n):\n",
    "                if(give(i,k,arr)==0):\n",
    "                    for j in range(i+1,k+1):\n",
    "                        if(give(i,j-1,arr)==give(j,k,arr)):\n",
    "                            # print(i,j,k)\n",
    "                            count+=1\n",
    "                    \n",
    "        # print(tri)\n",
    "        return(count)"
   ]
  },
  {
   "cell_type": "code",
   "execution_count": 3,
   "metadata": {},
   "outputs": [
    {
     "data": {
      "text/plain": [
       "4"
      ]
     },
     "execution_count": 3,
     "metadata": {},
     "output_type": "execute_result"
    }
   ],
   "source": [
    "ob=Solution()\n",
    "ob.countTriplets([2,3,1,6,7])"
   ]
  }
 ],
 "metadata": {
  "kernelspec": {
   "display_name": "Python 3",
   "language": "python",
   "name": "python3"
  },
  "language_info": {
   "codemirror_mode": {
    "name": "ipython",
    "version": 3
   },
   "file_extension": ".py",
   "mimetype": "text/x-python",
   "name": "python",
   "nbconvert_exporter": "python",
   "pygments_lexer": "ipython3",
   "version": "3.7.5"
  }
 },
 "nbformat": 4,
 "nbformat_minor": 2
}

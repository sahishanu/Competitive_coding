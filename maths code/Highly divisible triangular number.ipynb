{
 "cells": [
  {
   "cell_type": "code",
   "execution_count": 69,
   "metadata": {},
   "outputs": [],
   "source": [
    "def prime_array():\n",
    "    max_n=300\n",
    "    k=[]\n",
    "    for i in range(max_n+1):\n",
    "        k.append(True)\n",
    "    p=[]\n",
    "    for i in range(2,max_n+1):\n",
    "        if(k[i]==True):\n",
    "            p.append(i)\n",
    "            j=i\n",
    "            while(j<=max_n):\n",
    "                k[j]=False\n",
    "                j=j+i\n",
    "    return(p)\n",
    "        \n",
    "def  find_div(n,p):\n",
    "    c=1\n",
    "    i=0\n",
    "    while(i<len(p)):\n",
    "        if(n==1):\n",
    "            break\n",
    "        e=0\n",
    "        while(n%p[i]==0):\n",
    "            e+=1\n",
    "            n=n//p[i]\n",
    "        c=c*(e+1)\n",
    "        i+=1\n",
    "    return(c)\n",
    " \n"
   ]
  },
  {
   "cell_type": "code",
   "execution_count": 70,
   "metadata": {},
   "outputs": [
    {
     "name": "stdout",
     "output_type": "stream",
     "text": [
      "62\n"
     ]
    }
   ],
   "source": [
    "p=prime_array()\n",
    "print(len(p))"
   ]
  },
  {
   "cell_type": "code",
   "execution_count": 72,
   "metadata": {},
   "outputs": [
    {
     "name": "stdout",
     "output_type": "stream",
     "text": [
      "1\n",
      "1000\n",
      "1024 842161320\n"
     ]
    }
   ],
   "source": [
    "t=int(input())   \n",
    "for i in range(t):\n",
    "    n=int(input())\n",
    "    d=0\n",
    "    i=2\n",
    "    while(d<=n):\n",
    "        d=find_div(  ((i+1)*i)//2  , p)\n",
    "#         print(i,((i+1)*i)//2,\"div=\",d)\n",
    "        i+=1\n",
    "        \n",
    "    i=i-1\n",
    "    print(d,((i+1)*i)//2)\n",
    "    \n",
    "        \n",
    "    "
   ]
  },
  {
   "cell_type": "code",
   "execution_count": null,
   "metadata": {},
   "outputs": [],
   "source": []
  }
 ],
 "metadata": {
  "kernelspec": {
   "display_name": "Python 3",
   "language": "python",
   "name": "python3"
  },
  "language_info": {
   "codemirror_mode": {
    "name": "ipython",
    "version": 3
   },
   "file_extension": ".py",
   "mimetype": "text/x-python",
   "name": "python",
   "nbconvert_exporter": "python",
   "pygments_lexer": "ipython3",
   "version": "3.7.5"
  }
 },
 "nbformat": 4,
 "nbformat_minor": 2
}

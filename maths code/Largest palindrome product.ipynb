{
 "cells": [
  {
   "cell_type": "code",
   "execution_count": 7,
   "metadata": {},
   "outputs": [
    {
     "name": "stdout",
     "output_type": "stream",
     "text": [
      "906609\n"
     ]
    }
   ],
   "source": [
    "#By observation we know that every palindrome is multiple of 11\n",
    "upper_lim=999\n",
    "lower_lim=100\n",
    "\n",
    "result=0\n",
    "i=upper_lim\n",
    "while(True):\n",
    "    if(i%11==0):\n",
    "        break\n",
    "    i-=1\n",
    "# print(i)\n",
    "while(i>lower_lim):\n",
    "    j=upper_lim\n",
    "    while(j>lower_lim):\n",
    "        if(i*j>result):\n",
    "            s=str(i*j)\n",
    "            if(s==s[::-1]):\n",
    "                result=i*j\n",
    "        j-=1\n",
    "    i-=11\n",
    "print(result)"
   ]
  }
 ],
 "metadata": {
  "kernelspec": {
   "display_name": "Python 3",
   "language": "python",
   "name": "python3"
  },
  "language_info": {
   "codemirror_mode": {
    "name": "ipython",
    "version": 3
   },
   "file_extension": ".py",
   "mimetype": "text/x-python",
   "name": "python",
   "nbconvert_exporter": "python",
   "pygments_lexer": "ipython3",
   "version": "3.7.5"
  }
 },
 "nbformat": 4,
 "nbformat_minor": 2
}

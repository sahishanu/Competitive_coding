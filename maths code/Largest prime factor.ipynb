{
 "cells": [
  {
   "cell_type": "code",
   "execution_count": 2,
   "metadata": {},
   "outputs": [
    {
     "name": "stdout",
     "output_type": "stream",
     "text": [
      "1\n",
      "600851475143\n",
      "6857\n"
     ]
    }
   ],
   "source": [
    "import sys\n",
    "\n",
    "def isprime(n):\n",
    "  \n",
    "    k=int((n**(1/2)))\n",
    "    i=1\n",
    "    a=6*i+1\n",
    "    b=6*i-1\n",
    "    if(n<2):\n",
    "        return(False)\n",
    "    elif(n==2 or n==3):\n",
    "        return(True)\n",
    "    elif(n%2==0 or n%3==0):\n",
    "        return(False)\n",
    "    else:\n",
    "        while(b<=k):\n",
    "            if(n%a==0 or n%b==0):\n",
    "                return(False)\n",
    "            a=6*i+1\n",
    "            b=6*i-1\n",
    "            i+=1\n",
    "        return(True)\n",
    "\n",
    "\n",
    "t = int(input().strip())\n",
    "for a0 in range(t):\n",
    "    n = int(input().strip())\n",
    "    if isprime(n):\n",
    "        print(n)\n",
    "    else:\n",
    "        for i in range(2,int(n/2)):\n",
    "            if(n%i==0):\n",
    "                if isprime(int(n/i)):\n",
    "                    print(int(n/i))\n",
    "                    break\n"
   ]
  }
 ],
 "metadata": {
  "kernelspec": {
   "display_name": "Python 3",
   "language": "python",
   "name": "python3"
  },
  "language_info": {
   "codemirror_mode": {
    "name": "ipython",
    "version": 3
   },
   "file_extension": ".py",
   "mimetype": "text/x-python",
   "name": "python",
   "nbconvert_exporter": "python",
   "pygments_lexer": "ipython3",
   "version": "3.7.5"
  }
 },
 "nbformat": 4,
 "nbformat_minor": 2
}

{
 "cells": [
  {
   "cell_type": "code",
   "execution_count": 1,
   "metadata": {},
   "outputs": [],
   "source": [
    "max_n=3000000\n",
    "l=[0,1,2]\n",
    "for i in range(max_n-2):\n",
    "    l.append(False)\n",
    "\n"
   ]
  },
  {
   "cell_type": "code",
   "execution_count": 5,
   "metadata": {},
   "outputs": [
    {
     "name": "stdout",
     "output_type": "stream",
     "text": [
      "1\n",
      "20\n",
      "19 21 [0, 1, 2, 8, 3, 6, 9, 17, 4, 20, 7, 15, 10, 10, 18, 18, 5, 13, 21, 21]\n"
     ]
    }
   ],
   "source": [
    "def count(n,p):\n",
    "    if(n<len(p) and p[n]!=False):\n",
    "        return(p[n])\n",
    "    else:\n",
    "        if(n%2==0):\n",
    "            w=1+count(n//2,p)\n",
    "            if(n<len(p)):\n",
    "                p[n]=w\n",
    "            return(w)\n",
    "        else:\n",
    "            w=1+count((3*n) +1,p)\n",
    "            if(n<len(p)):\n",
    "                p[n]=w\n",
    "            return(w)\n",
    "\n",
    "        \n",
    "p=[0,1,2]\n",
    "for i in range(1000000-2):\n",
    "    p.append(False)        \n",
    "t=int(input())\n",
    "for o in range(t):\n",
    "    n=int(input())\n",
    "    maxm=1\n",
    "    no=1\n",
    "    for i in range(1,n+1):\n",
    "        if(p[i]!=False):\n",
    "            if(maxm<=p[i]):\n",
    "                maxm=p[i]\n",
    "                no=i\n",
    "        else:\n",
    "            p[i]=count(i,p)\n",
    "            if(p[i]>=maxm):\n",
    "                maxm=p[i]\n",
    "                no=i\n",
    "    print(no)\n",
    "        "
   ]
  }
 ],
 "metadata": {
  "kernelspec": {
   "display_name": "Python 3",
   "language": "python",
   "name": "python3"
  },
  "language_info": {
   "codemirror_mode": {
    "name": "ipython",
    "version": 3
   },
   "file_extension": ".py",
   "mimetype": "text/x-python",
   "name": "python",
   "nbconvert_exporter": "python",
   "pygments_lexer": "ipython3",
   "version": "3.7.5"
  }
 },
 "nbformat": 4,
 "nbformat_minor": 2
}

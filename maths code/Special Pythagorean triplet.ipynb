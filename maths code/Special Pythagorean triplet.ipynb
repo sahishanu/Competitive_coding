{
 "cells": [
  {
   "cell_type": "code",
   "execution_count": 15,
   "metadata": {},
   "outputs": [
    {
     "name": "stdout",
     "output_type": "stream",
     "text": [
      "1\n",
      "1000\n",
      "31875000\n"
     ]
    }
   ],
   "source": [
    "t = int(input().strip())\n",
    "for a0 in range(t):\n",
    "    n = int(input().strip())\n",
    "    l=-1\n",
    "    for a in range(1,(n//3)):\n",
    "        b = (n * n - 2 * n * a) // (2 * n - 2 * a) \n",
    "        c=n-b-a\n",
    "        if(a**2 +b**2== c**2):\n",
    "            k=a*b*c\n",
    "            if(l<k):\n",
    "                l=k\n",
    "            \n",
    "                   \n",
    "\n",
    "    if(l==0):\n",
    "        print(-1)   \n",
    "    else:\n",
    "        print(l)\n"
   ]
  }
 ],
 "metadata": {
  "kernelspec": {
   "display_name": "Python 3",
   "language": "python",
   "name": "python3"
  },
  "language_info": {
   "codemirror_mode": {
    "name": "ipython",
    "version": 3
   },
   "file_extension": ".py",
   "mimetype": "text/x-python",
   "name": "python",
   "nbconvert_exporter": "python",
   "pygments_lexer": "ipython3",
   "version": "3.7.5"
  }
 },
 "nbformat": 4,
 "nbformat_minor": 2
}

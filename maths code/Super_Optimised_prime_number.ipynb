{
 "cells": [
  {
   "cell_type": "code",
   "execution_count": 20,
   "metadata": {},
   "outputs": [
    {
     "name": "stdout",
     "output_type": "stream",
     "text": [
      "577117\n",
      "no of iteration: 9\n",
      "Not a prime Number\n"
     ]
    }
   ],
   "source": [
    "def isprime(n):\n",
    "    k=int(n**(1/2))\n",
    "    i=1\n",
    "    a=6*i+1\n",
    "    b=6*i-1\n",
    "    if(n<2):\n",
    "        print(\"no of iteration:\",1)\n",
    "        return(False)\n",
    "    elif(n==2 or n==3):\n",
    "        print(\"no of iteration:\",1)\n",
    "        return(True)\n",
    "    elif(n%2==0 or n%3==0 ):\n",
    "        print(\"no of iteration:\",1)\n",
    "        return(False)\n",
    "    else:\n",
    "        c=0\n",
    "        while(a<=k):\n",
    "            c+=1\n",
    "            \n",
    "            if(n%a==0 or n%b==0):\n",
    "                print(\"no of iteration:\",c)\n",
    "                return(False)\n",
    "            i=i+1\n",
    "            a=6*i+1\n",
    "            b=6*i-1\n",
    "        print(\"no of iteration:\",c)\n",
    "        return(True)\n",
    "n=int(input())\n",
    "\n",
    "if isprime(n):\n",
    "    print(\"Is a prime Number\")\n",
    "else:\n",
    "    print(\"Not a prime Number\")\n",
    "    \n",
    "    \n"
   ]
  }
 ],
 "metadata": {
  "kernelspec": {
   "display_name": "Python 3",
   "language": "python",
   "name": "python3"
  },
  "language_info": {
   "codemirror_mode": {
    "name": "ipython",
    "version": 3
   },
   "file_extension": ".py",
   "mimetype": "text/x-python",
   "name": "python",
   "nbconvert_exporter": "python",
   "pygments_lexer": "ipython3",
   "version": "3.7.5"
  }
 },
 "nbformat": 4,
 "nbformat_minor": 2
}

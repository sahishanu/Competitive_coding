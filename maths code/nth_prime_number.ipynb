{
 "cells": [
  {
   "cell_type": "code",
   "execution_count": 44,
   "metadata": {},
   "outputs": [
    {
     "name": "stdout",
     "output_type": "stream",
     "text": [
      "100\n",
      "541\n"
     ]
    }
   ],
   "source": [
    "def isprime(n,l):\n",
    "    k=n**1/2\n",
    "    if(n%2==0 or n%3==0 or n%5==0 or n%7==0 ):\n",
    "        return(False)\n",
    "    for i in range(len(l)):\n",
    "        if(l[i]>k):\n",
    "            break\n",
    "        if(n%l[i]==0):\n",
    "            return(False)\n",
    "    return(True)\n",
    "            \n",
    "n=int(input())\n",
    "\n",
    "if(n==1):\n",
    "    print(2)\n",
    "elif(n==2):\n",
    "    print(3)\n",
    "else:\n",
    "    c=2\n",
    "    l=[2,3]\n",
    "    i=1\n",
    "    a=6*i+1\n",
    "    b=6*i-1\n",
    "    while(c<n):\n",
    "        if(isprime(b,l)):\n",
    "            c+=1\n",
    "            l.append(b)\n",
    "        if(isprime(a,l)):\n",
    "            c+=1\n",
    "            l.append(a)\n",
    "        i+=1\n",
    "        a=6*i+1\n",
    "        b=6*i-1\n",
    "    print(l[n-3])\n",
    "    \n",
    "\n",
    "    \n",
    "        \n",
    "    "
   ]
  },
  {
   "cell_type": "code",
   "execution_count": 45,
   "metadata": {},
   "outputs": [
    {
     "name": "stdout",
     "output_type": "stream",
     "text": [
      "541\n"
     ]
    }
   ],
   "source": [
    "\"\"\"\n",
    "Optimized approch:Sieve of eratosthenes\n",
    "\"\"\"\n",
    "def seive_of_eratosthenes():\n",
    "    max_n=104801\n",
    "    l=[True,True]\n",
    "    for i in range(2,max_n+1):\n",
    "        l.append(True)\n",
    "    prime=[]\n",
    "    for i in range(2,max_n+1):\n",
    "        if(l[i]==True):\n",
    "            prime.append(i)\n",
    "            j=i\n",
    "            while(j<=max_n):\n",
    "                l[j]=False\n",
    "                j=j+i\n",
    "    return(prime)\n",
    "\n",
    "prime=seive_of_eratosthenes()\n",
    "n=100\n",
    "print(prime[n-1])\n"
   ]
  },
  {
   "cell_type": "code",
   "execution_count": 29,
   "metadata": {},
   "outputs": [
    {
     "name": "stdout",
     "output_type": "stream",
     "text": [
      "1585 [2, 3, 5, 7, 11, 13, 17, 19, 23, 29, 31, 37, 41, 43, 47, 53, 59, 61, 67, 71, 73, 79, 83, 89, 97, 101, 103, 107, 109, 113, 127, 131, 137, 139, 149, 151, 157, 163, 167, 173, 179, 181, 191, 193, 197, 199, 211, 223, 227, 229, 233, 239, 241, 251, 257, 263, 269, 271, 277, 281, 283, 293, 307, 311, 313, 317, 331, 337, 347, 349, 353, 359, 367, 373, 379, 383, 389, 397, 401, 409, 419, 421, 431, 433, 439, 443, 449, 457, 461, 463, 467, 479, 487, 491, 499, 503, 509, 521, 523, 541, 547, 557, 563, 569, 571, 577, 587, 593, 599, 601, 607, 613, 617, 619, 631, 641, 643, 647, 653, 659, 661, 673, 677, 683, 691, 701, 709, 719, 727, 733, 739, 743, 751, 757, 761, 769, 773, 787, 797, 809, 811, 821, 823, 827, 829, 839, 853, 857, 859, 863, 877, 881, 883, 887, 907, 911, 919, 929, 937, 941, 947, 953, 967, 971, 977, 983, 991, 997, 1009, 1013, 1019, 1021, 1031, 1033, 1039, 1049, 1051, 1061, 1063, 1069, 1087, 1091, 1093, 1097, 1103, 1109, 1117, 1123, 1129, 1151, 1153, 1163, 1171, 1181, 1187, 1193, 1201, 1213, 1217, 1223, 1229, 1231, 1237, 1249, 1259, 1277, 1279, 1283, 1289, 1291, 1297, 1301, 1303, 1307, 1319, 1321, 1327, 1361, 1367, 1373, 1381, 1399, 1409, 1423, 1427, 1429, 1433, 1439, 1447, 1451, 1453, 1459, 1471, 1481, 1483, 1487, 1489, 1493, 1499, 1511, 1523, 1531, 1543, 1549, 1553, 1559, 1567, 1571, 1579, 1583]\n"
     ]
    }
   ],
   "source": [
    "def prime(n):\n",
    "    l=[]\n",
    "    p=[]\n",
    "    for i in range(n+1):\n",
    "        l.append(True)\n",
    "    for i in range(2,n+1):\n",
    "        if(l[i]==True):\n",
    "            p.append(i)\n",
    "            j=i\n",
    "            while(j<=n):\n",
    "                l[j]=False\n",
    "                j+=i\n",
    "    return(p)\n",
    "n=1585\n",
    "print(n,prime(n))"
   ]
  },
  {
   "cell_type": "code",
   "execution_count": 31,
   "metadata": {},
   "outputs": [
    {
     "name": "stdout",
     "output_type": "stream",
     "text": [
      "3387\n",
      "888\n"
     ]
    }
   ],
   "source": [
    "t=1\n",
    "for i in range(t):\n",
    "    try:\n",
    "        n=int(input().strip())\n",
    "        c=0\n",
    "        for i in range(1,n+1):\n",
    "            if('4' in str(i)):\n",
    "                c+=1\n",
    "        print(c)\n",
    "    except:\n",
    "        pass"
   ]
  }
 ],
 "metadata": {
  "kernelspec": {
   "display_name": "Python 3",
   "language": "python",
   "name": "python3"
  },
  "language_info": {
   "codemirror_mode": {
    "name": "ipython",
    "version": 3
   },
   "file_extension": ".py",
   "mimetype": "text/x-python",
   "name": "python",
   "nbconvert_exporter": "python",
   "pygments_lexer": "ipython3",
   "version": "3.7.5"
  }
 },
 "nbformat": 4,
 "nbformat_minor": 2
}

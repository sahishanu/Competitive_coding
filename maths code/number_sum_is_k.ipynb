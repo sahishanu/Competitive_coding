{
 "cells": [
  {
   "cell_type": "code",
   "execution_count": 31,
   "metadata": {},
   "outputs": [
    {
     "name": "stdout",
     "output_type": "stream",
     "text": [
      "10\n"
     ]
    }
   ],
   "source": [
    "\"\"\"\n",
    "Find the number of Numbers between 0 and n whose Sum of all digit is k:\n",
    "eg:\n",
    "for n=10 and k=1\n",
    "ans:2\n",
    "    as 1=1,10=1+0=1\n",
    "\"\"\"\n",
    "\n",
    "def number_sum(n):\n",
    "    s=0\n",
    "    for x in str(n):\n",
    "        s+=int(x)\n",
    "    return(s)\n",
    "# print(number_sum(123))\n",
    "\n",
    "def count_num(n,k):\n",
    "    i=0\n",
    "    c=0\n",
    "    while(i<=n):\n",
    "        if(number_sum(i)==k):\n",
    "            i=i+9\n",
    "            c+=1\n",
    "        else:\n",
    "            i+=1\n",
    "        \n",
    "    return(c)\n",
    "print(count_num(100,9))"
   ]
  },
  {
   "cell_type": "code",
   "execution_count": null,
   "metadata": {},
   "outputs": [],
   "source": []
  }
 ],
 "metadata": {
  "kernelspec": {
   "display_name": "Python 3",
   "language": "python",
   "name": "python3"
  },
  "language_info": {
   "codemirror_mode": {
    "name": "ipython",
    "version": 3
   },
   "file_extension": ".py",
   "mimetype": "text/x-python",
   "name": "python",
   "nbconvert_exporter": "python",
   "pygments_lexer": "ipython3",
   "version": "3.7.5"
  }
 },
 "nbformat": 4,
 "nbformat_minor": 2
}

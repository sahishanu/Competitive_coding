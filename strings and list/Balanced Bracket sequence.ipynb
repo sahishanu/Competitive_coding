{
 "cells": [
  {
   "cell_type": "code",
   "execution_count": 29,
   "metadata": {},
   "outputs": [
    {
     "name": "stdout",
     "output_type": "stream",
     "text": [
      "()()(()())\n",
      "k= ()()(()())\n",
      "k= ()(()())()\n",
      "k= (()())()()\n",
      "k= ()())()()(\n",
      "k= ())()()(()\n",
      "3\n"
     ]
    }
   ],
   "source": [
    "\n",
    "# O(n^2)\n",
    "s=input()\n",
    "c=0\n",
    "for i in range(len(s)):\n",
    "    if(s[i]==\"(\"):\n",
    "        k=s[i:len(s):1]+s[0:i:1]\n",
    "        stack=[]\n",
    "        print(\"k=\",k)\n",
    "        for j in k:\n",
    "#         print(stack)\n",
    "            if(len(stack)==0 and j==\")\"):\n",
    "                stack.append(1)\n",
    "                break\n",
    "            if(len(stack)==0):\n",
    "                stack.append(j)\n",
    "            elif(j==\")\" and stack[-1]==\"(\"):\n",
    "                stack.pop(-1)\n",
    "            else:\n",
    "                stack.append(j)\n",
    "        if(len(stack)==0):\n",
    "            c+=1\n",
    "print(c)"
   ]
  },
  {
   "cell_type": "code",
   "execution_count": 30,
   "metadata": {},
   "outputs": [
    {
     "name": "stdout",
     "output_type": "stream",
     "text": [
      ")()()(\n",
      "3\n"
     ]
    }
   ],
   "source": [
    "O(n)\n",
    "s=list(input())\n",
    "l=[]\n",
    "stack=[]\n",
    "for  i in range(len(s)):\n",
    "    l.append(0)\n",
    "for i in range(len(s)):\n",
    "    if(len(stack)==0):\n",
    "        l[i]=1\n",
    "        \n",
    "        stack.append((s[i],i))\n",
    "    elif(stack[-1][0]==\"(\" and s[i]==\")\"):\n",
    "        l[i]=1\n",
    "        w,k=stack.pop(-1)\n",
    "        l[k]=-1\n",
    "    else:\n",
    "        stack.append((s[i],i))\n",
    "        l[i]=1\n",
    "        \n",
    "pt=len(stack)\n",
    "count=0\n",
    "if(pt==0):\n",
    "    count=1\n",
    "\n",
    "# print(stack,l)\n",
    "for i in range(len(s)-1):\n",
    "#     print(i,pt,stack)\n",
    "    if(len(stack)==0):\n",
    "        stack.append((s[i],i))\n",
    "        pt+=1\n",
    "        pt-=l[i]\n",
    "        l[i]=1\n",
    "    elif(stack[-1][0]==\"(\" and s[i]==\")\"):\n",
    "        pt-=1\n",
    "        pt-=l[i]\n",
    "        k,w=stack.pop(-1)\n",
    "        l[w]=-1\n",
    "        \n",
    "    else:\n",
    "        stack.append((s[i],i))\n",
    "        pt+=1\n",
    "        pt-=l[i]\n",
    "        l[i]=1\n",
    "    \n",
    "#     print(s[i+1:len(s):1]+(s[0:i+1:1]))\n",
    "    if(pt==0):\n",
    "        count+=1\n",
    "#         print(\"True\")\n",
    "#     print(\"\\n\\n\")\n",
    "        \n",
    "        \n",
    "print(count)        \n",
    "    "
   ]
  }
 ],
 "metadata": {
  "kernelspec": {
   "display_name": "Python 3",
   "language": "python",
   "name": "python3"
  },
  "language_info": {
   "codemirror_mode": {
    "name": "ipython",
    "version": 3
   },
   "file_extension": ".py",
   "mimetype": "text/x-python",
   "name": "python",
   "nbconvert_exporter": "python",
   "pygments_lexer": "ipython3",
   "version": "3.7.5"
  }
 },
 "nbformat": 4,
 "nbformat_minor": 2
}

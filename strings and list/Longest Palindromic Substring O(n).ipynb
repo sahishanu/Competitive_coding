{
 "cells": [
  {
   "cell_type": "code",
   "execution_count": 3,
   "metadata": {},
   "outputs": [],
   "source": [
    "def preprocess(s):\n",
    "    l=list(s)\n",
    "    s2=\"#\".join(l)\n",
    "    s2=\"#\"+s2+\"#\"\n",
    "    return(s2)"
   ]
  },
  {
   "cell_type": "code",
   "execution_count": 27,
   "metadata": {},
   "outputs": [],
   "source": [
    "def ispalindrome(s):\n",
    "    s=preprocess(s)\n",
    "    n=len(s)\n",
    "    l=0\n",
    "    r=2\n",
    "    p=[0 for i in range(n)]\n",
    "    mid=1\n",
    "    p[1]=1\n",
    "    for i in range(2,n):\n",
    "        if(i<r):\n",
    "            c=i-mid  \n",
    "            p[i]=min(p[mid -c] , r-i)\n",
    "            \n",
    "        left=i-p[i]-1\n",
    "        right=i+p[i]+1\n",
    "        \n",
    "        while(left>=0 and right<n and s[left]==s[right]):\n",
    "            left-=1\n",
    "            right+=1\n",
    "            p[i]+=1\n",
    "        \n",
    "        if(i+p[i]>r):\n",
    "            mid=i\n",
    "            r=i+p[i]\n",
    "            \n",
    "\n",
    "            \n",
    "    print(p,s)\n",
    "    return(max(p))\n",
    "        \n",
    "        \n",
    "            \n",
    "        \n",
    "    "
   ]
  },
  {
   "cell_type": "code",
   "execution_count": 28,
   "metadata": {},
   "outputs": [
    {
     "name": "stdout",
     "output_type": "stream",
     "text": [
      "abababab\n",
      "[0, 1, 0, 3, 0, 5, 0, 7, 0, 7, 0, 5, 0, 3, 0, 1, 0] #a#b#a#b#a#b#a#b#\n",
      "7\n"
     ]
    }
   ],
   "source": [
    "s=input()\n",
    "print(ispalindrome(s))"
   ]
  },
  {
   "cell_type": "code",
   "execution_count": null,
   "metadata": {},
   "outputs": [],
   "source": []
  }
 ],
 "metadata": {
  "kernelspec": {
   "display_name": "Python 3",
   "language": "python",
   "name": "python3"
  },
  "language_info": {
   "codemirror_mode": {
    "name": "ipython",
    "version": 3
   },
   "file_extension": ".py",
   "mimetype": "text/x-python",
   "name": "python",
   "nbconvert_exporter": "python",
   "pygments_lexer": "ipython3",
   "version": "3.7.5"
  }
 },
 "nbformat": 4,
 "nbformat_minor": 4
}

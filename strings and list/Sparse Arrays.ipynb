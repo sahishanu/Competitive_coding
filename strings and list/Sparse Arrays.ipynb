{
 "cells": [
  {
   "cell_type": "code",
   "execution_count": null,
   "metadata": {},
   "outputs": [],
   "source": [
    "\"\"\"\n",
    "\n",
    "Sparse Arrays:\n",
    "Array: strings>>\n",
    "def\n",
    "de\n",
    "fgh\n",
    "\n",
    "Array: queries>>\n",
    "de\n",
    "lmn\n",
    "fgh\n",
    "There is a collection of input strings and a collection of query strings. \n",
    "For each query string,determine how many times it occurs in the list of input strings.\n",
    "\n",
    "2\n",
    "1\n",
    "0\n",
    "\"\"\""
   ]
  },
  {
   "cell_type": "code",
   "execution_count": null,
   "metadata": {},
   "outputs": [],
   "source": [
    "def matchingStrings(strings, queries):\n",
    "    l=[]\n",
    "    d=dict()\n",
    "    for i in queries:\n",
    "        d[i]=0\n",
    "    for j in strings:\n",
    "        d[j]=0\n",
    "    for j in strings:\n",
    "        d[j]+=1\n",
    "    for i in queries:\n",
    "        l.append(d[i])\n",
    "    return(l)\n"
   ]
  },
  {
   "cell_type": "code",
   "execution_count": null,
   "metadata": {},
   "outputs": [],
   "source": [
    "if __name__ == '__main__':\n",
    "    fptr = open(os.environ['OUTPUT_PATH'], 'w')\n",
    "\n",
    "    strings_count = int(input())\n",
    "\n",
    "    strings = []\n",
    "\n",
    "    for _ in range(strings_count):\n",
    "        strings_item = input()\n",
    "        strings.append(strings_item)\n",
    "\n",
    "    queries_count = int(input())\n",
    "\n",
    "    queries = []\n",
    "\n",
    "    for _ in range(queries_count):\n",
    "        queries_item = input()\n",
    "        queries.append(queries_item)\n",
    "\n",
    "    res = matchingStrings(strings, queries)\n",
    "\n",
    "    fptr.write('\\n'.join(map(str, res)))\n",
    "    fptr.write('\\n')\n",
    "\n",
    "    fptr.close()\n"
   ]
  }
 ],
 "metadata": {
  "kernelspec": {
   "display_name": "Python 3",
   "language": "python",
   "name": "python3"
  },
  "language_info": {
   "codemirror_mode": {
    "name": "ipython",
    "version": 3
   },
   "file_extension": ".py",
   "mimetype": "text/x-python",
   "name": "python",
   "nbconvert_exporter": "python",
   "pygments_lexer": "ipython3",
   "version": "3.7.5"
  }
 },
 "nbformat": 4,
 "nbformat_minor": 2
}

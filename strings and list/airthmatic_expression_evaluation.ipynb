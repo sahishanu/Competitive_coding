{
 "cells": [
  {
   "cell_type": "code",
   "execution_count": 1,
   "metadata": {},
   "outputs": [],
   "source": [
    "def evaluate(a,b,op):\n",
    "    if(op==\"+\"):\n",
    "        return(int(a)+int(b))\n",
    "    if(op==\"-\"):\n",
    "        return(int(a)-int(b))\n",
    "    if(op==\"/\"):\n",
    "        return(int(a)/int(b))\n",
    "    if(op==\"*\"):\n",
    "        return(int(a)*int(b))\n",
    "def make_list(s):\n",
    "    i=0\n",
    "    l=len(s)\n",
    "    lst=[]\n",
    "    \n",
    "    while(i<l):\n",
    "        a=\"\"\n",
    "        while(s[i].isdigit()):\n",
    "            a=a+s[i]\n",
    "            i+=1\n",
    "            if(i==l):\n",
    "                break\n",
    "        if(a.isdigit()):\n",
    "            lst.append((a))\n",
    "            \n",
    "        if(i==l):\n",
    "            break\n",
    "        lst.append(s[i])\n",
    "        i+=1\n",
    "    return(lst)\n",
    "\n",
    "# infix to postfix\n",
    "def order(op):\n",
    "    if(op==\"+\" or op==\"-\"):\n",
    "        return(1)\n",
    "    if(op==\"*\" or op==\"/\"):\n",
    "        return(2)\n",
    "    if(op==\"^\"):\n",
    "        retun(3)\n",
    "def assoc(op):\n",
    "    if(op==\"*\" or op==\"/\" or op==\"-\" or op==\"+\"):\n",
    "        return(\"lr\")\n",
    "    else:\n",
    "        return(\"rl\")\n",
    "def infix_to_postfix(s):\n",
    "    n=len(s)\n",
    "    out=[]\n",
    "    stack=[]\n",
    "    for x in s:\n",
    "        if(x.isdigit()):\n",
    "            out.append(x)\n",
    "        elif(len(stack)==0):\n",
    "            stack.append(x)\n",
    "        elif(x!=\")\"):\n",
    "            while(True):\n",
    "                if(len(stack)==0):\n",
    "                   stack.append(x)\n",
    "                   break\n",
    "                elif(stack[-1]==\"(\" or x==\"(\"):\n",
    "                   stack.append(x)\n",
    "                   break\n",
    "                elif(order(x)>order(stack[-1])):\n",
    "                   stack.append(x)\n",
    "                   break\n",
    "                elif(order(x)==order(stack[-1]) and assoc(x)==\"rl\"):\n",
    "                   stack.append(x)\n",
    "                   break\n",
    "                else:\n",
    "                   out.append(stack.pop(-1))\n",
    "        else:\n",
    "            while(stack[-1]!=\"(\"):\n",
    "                out.append(stack.pop(-1))\n",
    "            stack.pop(-1)\n",
    "    \n",
    "                       \n",
    "    while(len(stack)!=0):\n",
    "        out.append(stack.pop(-1))\n",
    "                \n",
    "    return(out) \n",
    "def calculate(l):\n",
    "    stack=[]\n",
    "    for x in l:\n",
    "        if(x.isdigit()):\n",
    "            stack.append(x)\n",
    "        else:\n",
    "            a=stack.pop(-2)\n",
    "            b=stack.pop(-1)\n",
    "            stack.append(evaluate(a,b,x))    \n",
    "    return(stack[-1])"
   ]
  },
  {
   "cell_type": "code",
   "execution_count": 2,
   "metadata": {},
   "outputs": [
    {
     "name": "stdout",
     "output_type": "stream",
     "text": [
      "['(', '4', '+', '3', ')', '*', '(', '12', '/', '6', ')', '+', '100']\n"
     ]
    },
    {
     "data": {
      "text/plain": [
       "['4', '3', '+', '12', '6', '/', '*', '100', '+']"
      ]
     },
     "execution_count": 2,
     "metadata": {},
     "output_type": "execute_result"
    }
   ],
   "source": [
    "s=\"(4+3)*(12/6)+100\"\n",
    "lst=make_list(s)\n",
    "print(lst)\n",
    "infix_to_postfix(lst)"
   ]
  },
  {
   "cell_type": "code",
   "execution_count": 3,
   "metadata": {},
   "outputs": [
    {
     "name": "stdout",
     "output_type": "stream",
     "text": [
      "114\n"
     ]
    }
   ],
   "source": [
    "post_f=infix_to_postfix(lst)\n",
    "print(calculate(post_f))"
   ]
  },
  {
   "cell_type": "code",
   "execution_count": null,
   "metadata": {},
   "outputs": [],
   "source": []
  }
 ],
 "metadata": {
  "kernelspec": {
   "display_name": "Python 3",
   "language": "python",
   "name": "python3"
  },
  "language_info": {
   "codemirror_mode": {
    "name": "ipython",
    "version": 3
   },
   "file_extension": ".py",
   "mimetype": "text/x-python",
   "name": "python",
   "nbconvert_exporter": "python",
   "pygments_lexer": "ipython3",
   "version": "3.7.5"
  }
 },
 "nbformat": 4,
 "nbformat_minor": 2
}
